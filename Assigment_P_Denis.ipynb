{
 "cells": [
  {
   "cell_type": "markdown",
   "id": "fadf2fb9-9ed6-4748-bd5a-fb0d3021c332",
   "metadata": {},
   "source": [
    "# **Data Science Tools and Ecosystem** (ex.2)"
   ]
  },
  {
   "cell_type": "markdown",
   "id": "906c7169-e894-40ca-b760-b20b47bfcfd3",
   "metadata": {},
   "source": [
    "## In this notebook, Data Science Tools and Ecosystem are summarized (ex.3)\n"
   ]
  },
  {
   "cell_type": "markdown",
   "id": "affa6bc9-e986-4cac-a41e-bda86d777f51",
   "metadata": {},
   "source": [
    "## Some of the popular languages that Data Scientist use are:\n",
    "Pyhton\n",
    "Scala\n",
    "R "
   ]
  },
  {
   "cell_type": "markdown",
   "id": "1f351138-4d65-4a0b-b6da-809d0405adda",
   "metadata": {},
   "source": [
    "## Some of the commonly used librairies used by Data Scientists include: (ex. 4)\n",
    "ggplot\n",
    "pandas\n",
    "seaborn"
   ]
  },
  {
   "cell_type": "markdown",
   "id": "a675f766-24ec-4d4c-bb59-651a6e081503",
   "metadata": {},
   "source": [
    "## Data science tools: (ex. 6)\n",
    "Rstudio\n",
    "Jupyter notebooks\n",
    "Spyder"
   ]
  },
  {
   "cell_type": "markdown",
   "id": "8c7b4c80-9894-4b45-9e6d-f417188c267e",
   "metadata": {},
   "source": [
    "### Below are a few exemples of evaluating arithemetic expressions in Python (ex. 7)"
   ]
  },
  {
   "cell_type": "code",
   "execution_count": 1,
   "id": "c5de5db8-9a92-40f4-baf4-0cf2a76909a1",
   "metadata": {},
   "outputs": [
    {
     "data": {
      "text/plain": [
       "4"
      ]
     },
     "execution_count": 1,
     "metadata": {},
     "output_type": "execute_result"
    }
   ],
   "source": [
    "1+3\n"
   ]
  },
  {
   "cell_type": "code",
   "execution_count": 2,
   "id": "685e8f61-c614-4fd4-ab02-a8fab2b566c0",
   "metadata": {},
   "outputs": [
    {
     "data": {
      "text/plain": [
       "3.3333333333333335"
      ]
     },
     "execution_count": 2,
     "metadata": {},
     "output_type": "execute_result"
    }
   ],
   "source": [
    "10/3"
   ]
  },
  {
   "cell_type": "markdown",
   "id": "d6285243-829c-47a5-b730-7dfffb2b4fc0",
   "metadata": {},
   "source": [
    "### Exercices 8: This is a simple arithmetic expression to multiply the add integers"
   ]
  },
  {
   "cell_type": "code",
   "execution_count": 4,
   "id": "0f5e297d-9a64-4deb-ab04-0602e4eda44c",
   "metadata": {},
   "outputs": [
    {
     "data": {
      "text/plain": [
       "17"
      ]
     },
     "execution_count": 4,
     "metadata": {},
     "output_type": "execute_result"
    }
   ],
   "source": [
    "(3*4)+5"
   ]
  },
  {
   "cell_type": "markdown",
   "id": "6ad6a07e-4b2b-4ba0-8cef-f77112d3be75",
   "metadata": {},
   "source": [
    "### This will convert 200 minutes to hours by diving by 60 (ex. 9)"
   ]
  },
  {
   "cell_type": "code",
   "execution_count": 5,
   "id": "82c1f186-0b63-412b-a4b3-a472c96bfbd6",
   "metadata": {},
   "outputs": [
    {
     "data": {
      "text/plain": [
       "3.3333333333333335"
      ]
     },
     "execution_count": 5,
     "metadata": {},
     "output_type": "execute_result"
    }
   ],
   "source": [
    "200/600"
   ]
  },
  {
   "cell_type": "markdown",
   "id": "923cc1c9-f776-4f91-8b3c-69a1d06fd5c0",
   "metadata": {},
   "source": [
    "### ex 10\n",
    "<ul>\n",
    "<li>List popular langguages for data science</li>\n",
    "<li>Create a code cell to convert minutes to hours</li>\n",
    "<li>Create a markdown cell to list data science libraries</li>\n",
    "</ul>"
   ]
  },
  {
   "cell_type": "markdown",
   "id": "4f37a60a-edd5-4547-865d-935ea1770672",
   "metadata": {},
   "source": [
    "### Ex 11\n",
    "## Author \n",
    "Paolo Denis  "
   ]
  },
  {
   "cell_type": "code",
   "execution_count": null,
   "id": "1a6286e0-f57c-4512-a333-ad450406d0cf",
   "metadata": {},
   "outputs": [],
   "source": []
  }
 ],
 "metadata": {
  "kernelspec": {
   "display_name": "Python 3 (ipykernel)",
   "language": "python",
   "name": "python3"
  },
  "language_info": {
   "codemirror_mode": {
    "name": "ipython",
    "version": 3
   },
   "file_extension": ".py",
   "mimetype": "text/x-python",
   "name": "python",
   "nbconvert_exporter": "python",
   "pygments_lexer": "ipython3",
   "version": "3.12.3"
  }
 },
 "nbformat": 4,
 "nbformat_minor": 5
}
